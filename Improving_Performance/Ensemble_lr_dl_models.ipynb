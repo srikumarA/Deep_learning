{
  "nbformat": 4,
  "nbformat_minor": 0,
  "metadata": {
    "colab": {
      "provenance": [],
      "authorship_tag": "ABX9TyNDfo5LEYhHSAc9+3GlhD+Q",
      "include_colab_link": true
    },
    "kernelspec": {
      "name": "python3",
      "display_name": "Python 3"
    },
    "language_info": {
      "name": "python"
    }
  },
  "cells": [
    {
      "cell_type": "markdown",
      "metadata": {
        "id": "view-in-github",
        "colab_type": "text"
      },
      "source": [
        "<a href=\"https://colab.research.google.com/github/srikumarA/Deep_learning/blob/main/Improving_Performance/Ensemble_lr_dl_models.ipynb\" target=\"_parent\"><img src=\"https://colab.research.google.com/assets/colab-badge.svg\" alt=\"Open In Colab\"/></a>"
      ]
    },
    {
      "cell_type": "code",
      "execution_count": null,
      "metadata": {
        "id": "LdVACsSOVftq"
      },
      "outputs": [],
      "source": [
        "from collections import Counter\n",
        "import numpy as np\n",
        "class ensemble_model:\n",
        "  def __init__(self,path1,path2,path3=None,path4=None,path5=None):\n",
        "\n",
        "    '''\n",
        "    This class takes in trained models and combines them for ensemble learning.\n",
        "    The models are added as argument while initializing an object of the class,\n",
        "    It takes in a minimum of 2 model paths and a maximum of 5 model paths for ensemble learning.\n",
        "    Time complexity: sum(tc(model i)) for i in range no of models\n",
        "    it has 2 functions as of now : predict(self,test_data) and evaluate(self,test_data).\n",
        "    '''\n",
        "    paths=[path1,path2,path3,path4,path5]\n",
        "    models=[]\n",
        "    for path in paths:\n",
        "      if path!=None:\n",
        "        models+=[tf.keras.models.load_model(path)]\n",
        "    self.models=models\n",
        "    self.no_models=len(self.models)\n",
        "\n",
        "\n",
        "  def predict(self,test_data):\n",
        "\n",
        "    '''\n",
        "    uses trained models to predict labels and based on max voting outputs predicted label.\n",
        "    takes in test_data as input and outputs prediction labels as list.\n",
        "    '''\n",
        "\n",
        "    y_pred={}\n",
        "    for i in range(self.no_models):\n",
        "      y_pred[i]=np.argmax(self.models[i].predict(test_data),axis=1)\n",
        "      print(y_pred)\n",
        "\n",
        "    y_preds=[]\n",
        "    for i in range(0,len(test_data)):\n",
        "      y_pred_i=[]\n",
        "      for j in range(0,self.no_models):\n",
        "        y_pred_i.append(y_pred[j][i])\n",
        "      y_pred_i=Counter(y_pred_i).most_common()[0][0]\n",
        "      y_preds+=[y_pred_i]\n",
        "    return y_preds\n",
        "\n",
        "  def evaluate(self,test_data):\n",
        "    '''\n",
        "      evaluates the prediction made by the model with respect to the test labels.\n",
        "      Takes in Test data and returns accuracy.\n",
        "      '''\n",
        "\n",
        "    y_preds=self.predict(test_data)\n",
        "    tp=0\n",
        "    for i in range(len(test_data)):\n",
        "      if y_preds[i]==test_data[i]:\n",
        "        tp+=1\n",
        "    return tp/len(test_data)"
      ]
    },
    {
      "cell_type": "code",
      "source": [],
      "metadata": {
        "id": "l0FG9AaHWYkx"
      },
      "execution_count": null,
      "outputs": []
    }
  ]
}