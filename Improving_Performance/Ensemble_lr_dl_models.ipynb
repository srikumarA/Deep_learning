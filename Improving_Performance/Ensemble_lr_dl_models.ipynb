{
  "nbformat": 4,
  "nbformat_minor": 0,
  "metadata": {
    "colab": {
      "provenance": [],
      "authorship_tag": "ABX9TyO3UDeZIDc16Ke6X8YN0+UT",
      "include_colab_link": true
    },
    "kernelspec": {
      "name": "python3",
      "display_name": "Python 3"
    },
    "language_info": {
      "name": "python"
    }
  },
  "cells": [
    {
      "cell_type": "markdown",
      "metadata": {
        "id": "view-in-github",
        "colab_type": "text"
      },
      "source": [
        "<a href=\"https://colab.research.google.com/github/srikumarA/Deep_learning/blob/main/Improving_Performance/Ensemble_lr_dl_models.ipynb\" target=\"_parent\"><img src=\"https://colab.research.google.com/assets/colab-badge.svg\" alt=\"Open In Colab\"/></a>"
      ]
    },
    {
      "cell_type": "code",
      "execution_count": null,
      "metadata": {
        "id": "LdVACsSOVftq"
      },
      "outputs": [],
      "source": [
        "from collections import Counter\n",
        "class ensemble_model:\n",
        "  def __init__(self):\n",
        "\n",
        "    '''\n",
        "    This class takes in trained models and combines them for ensemble learning.\n",
        "    The models can be added to the models list in the constructor of this class.\n",
        "    it has 2 functions as of now : predict(self,test_data) and evaluate(self,test_data).\n",
        "    '''\n",
        "\n",
        "    self.models=[tf.keras.load_model('eff_net_101food.h5'),tf.keras.load_model('eff_net_b7.h5')]\n",
        "    self.no_models=len(self.models)\n",
        "\n",
        "\n",
        "  def predict(self,test_data):\n",
        "\n",
        "    '''\n",
        "    uses trained models to predict labels and based on max voting outputs predicted label.\n",
        "    takes in test_data as input and outputs prediction labels as list.\n",
        "    '''\n",
        "\n",
        "    y_pred={}\n",
        "    for i in range(self.no_models):\n",
        "      y_pred[i]=np.armax(self.models[i].predict(test_data),axis=1)\n",
        "\n",
        "    y_preds=[]\n",
        "    for i in range(y_pred[0]):\n",
        "      y_pred_i=[]\n",
        "      for j in range(self.no_models):\n",
        "        y_pred_i[i]=y_pred[j][i]\n",
        "      y_pred_i=Counter(y_pred_i).most_common()[0][0]\n",
        "      y_preds+=y_pred_i\n",
        "    return y_preds\n",
        "\n",
        "    def evaluate(self,test_data):\n",
        "\n",
        "      '''\n",
        "      evaluates the prediction made by the model with respect to the test labels.\n",
        "      Takes in Test data and returns accuracy.\n",
        "      '''\n",
        "\n",
        "      y_preds=self.predict(test_data)\n",
        "      tp=0\n",
        "      for i in range(len(test_data)):\n",
        "        if y_preds[i]==test_data[i]:\n",
        "          tp+=1\n",
        "    return tp/len(test_data)"
      ]
    }
  ]
}